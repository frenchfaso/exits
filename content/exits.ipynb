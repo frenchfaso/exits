{
 "cells": [
  {
   "cell_type": "markdown",
   "id": "7782a9e7-b64b-40ad-9349-57d7de887acd",
   "metadata": {},
   "source": [
    "![Exit Icon](./icons/exit_128.png)\n",
    "\n",
    "# Exit Strategy Explorer\n",
    "## Interactively compare linear, logarithmic, and exponential scaling-out strategies.\n",
    "\n",
    "The **Exit Strategy Explorer** provides a simple tool for investors to compare different exit strategies, namely linear, logarithmic, and exponential scaling-out strategies. Each strategy offers a unique approach to selling assets, and understanding the distinctions can significantly impact investment outcomes.\n",
    "\n",
    "**Linear scaling-out strategy** involves selling a fixed quantity of an asset over a specified time period or price range. This method is straightforward and predictable, making it easy to implement and understand. Its main strength lies in its simplicity and consistent execution. However, it may not optimize returns during periods of high volatility, as it does not account for changes in market dynamics.\n",
    "\n",
    "**Logarithmic scaling-out strategy** is designed to sell progressively smaller quantities of an asset as the price increases. This approach aims to capitalize on higher prices early on, securing profits while still retaining a portion of the asset for potential further increases. The strength of this strategy lies in its ability to balance risk and reward by taking advantage of rising markets. However, its complexity can be a drawback, as it requires more sophisticated decision-making and market analysis.\n",
    "\n",
    "**Exponential scaling-out strategy** involves increasing the quantity of asset sales as prices rise. This aggressive strategy maximizes potential profits if the price continues to increase but can also lead to significant losses if the market reverses. The exponential method is best suited for markets experiencing rapid growth. The main strength of this strategy is its capacity to amplify profits during strong uptrends, but this comes at the cost of increased risk and potential for higher volatility in returns.\n",
    "\n",
    "Each of these strategies offers distinct advantages and challenges, making it crucial for users to understand their underlying mechanisms and suitability for different market conditions.  \n",
    "The **Exit Strategy Explorer** allows users to interactively simulate these strategies, providing valuable insights into their potential impacts on investment portfolios."
   ]
  },
  {
   "cell_type": "code",
   "execution_count": 1,
   "id": "294d97b7-dff5-48a0-8937-904e9264588f",
   "metadata": {
    "editable": true,
    "jupyter": {
     "source_hidden": true
    },
    "slideshow": {
     "slide_type": ""
    },
    "tags": []
   },
   "outputs": [
    {
     "data": {
      "application/vnd.jupyter.widget-view+json": {
       "model_id": "36ab76d6d49443a095f8ddbcfaa6f0ce",
       "version_major": 2,
       "version_minor": 0
      },
      "text/plain": [
       "VBox(children=(FloatText(value=1.0, description='Quantity:'), IntSlider(value=10, description='Steps:', max=30…"
      ]
     },
     "metadata": {},
     "output_type": "display_data"
    },
    {
     "data": {
      "application/vnd.jupyter.widget-view+json": {
       "model_id": "a9a10c0222e74d84aa8bc8ff58ade4f2",
       "version_major": 2,
       "version_minor": 0
      },
      "text/plain": [
       "Output()"
      ]
     },
     "metadata": {},
     "output_type": "display_data"
    }
   ],
   "source": [
    "import ipywidgets as widgets\n",
    "from IPython.display import display\n",
    "import matplotlib.pyplot as plt\n",
    "import numpy as np\n",
    "import pandas as pd\n",
    "\n",
    "def calculate_linear_scale_out(quantity, steps, price_points):\n",
    "    \"\"\"Calculates the amount to sell and the profits for linear scale-out.\"\"\"\n",
    "    amounts_to_sell = np.full(steps, quantity / steps)\n",
    "    profits = amounts_to_sell * price_points\n",
    "    return amounts_to_sell, profits\n",
    "\n",
    "def calculate_exp_scale_out(quantity, steps, price_points):\n",
    "    \"\"\"Calculates the amount to sell and the profits for exponential scale-out.\"\"\"\n",
    "    exp_factors = np.linspace(0, 2, steps)\n",
    "    exp_weights = np.exp(exp_factors)\n",
    "    exp_weights_normalized = exp_weights / exp_weights.sum()\n",
    "    amounts_to_sell = quantity * exp_weights_normalized\n",
    "    profits = amounts_to_sell * price_points\n",
    "    return amounts_to_sell, profits\n",
    "\n",
    "def calculate_log_scale_out(quantity, steps, price_points):\n",
    "    \"\"\"Calculates the amount to sell and the profits for logarithmic scale-out.\"\"\"\n",
    "    log_factors = np.linspace(0.01, 1, steps)\n",
    "    log_weights = np.log(log_factors + 1)\n",
    "    log_weights_inverted = log_weights[::-1]  # Invert the array to make weights decrease\n",
    "    log_weights_normalized = log_weights_inverted / log_weights_inverted.sum()  \n",
    "    amounts_to_sell = quantity * log_weights_normalized\n",
    "    profits = amounts_to_sell * price_points\n",
    "    return amounts_to_sell, profits\n",
    "\n",
    "def plot_strategy(df, title, price_points):\n",
    "    \"\"\"Plots the scale-out strategy.\"\"\"\n",
    "    fig, ax1 = plt.subplots(figsize=(14, 8))\n",
    "    ax1.set_xlabel('Price ($)')\n",
    "    ax1.set_xticks(df['Price ($)'])\n",
    "    ax1.set_xticklabels([f'{price:.2f}' for price in df['Price ($)']], rotation=45, ha='right')\n",
    "\n",
    "    # Disegno delle linee verticali per ogni x-datapoint\n",
    "    for x in df['Price ($)']:\n",
    "        ax1.axvline(x=x, linestyle='--', color='grey', alpha=0.5)  # Aggiungi linee verticali con un'opacità ridotta\n",
    "\n",
    "\n",
    "    ax1.plot(df['Price ($)'], df['Compounding Profit ($)'], 'o-', color='red', label='Compounding Profit')\n",
    "    ax1.set_ylabel('Compounding Profit ($)', color='red')\n",
    "    ax1.tick_params(axis='y', labelcolor='red')\n",
    "    # ax1.tick_params(axis='y', which='both', left=False, labelleft=False)\n",
    "\n",
    "    ax2 = ax1.twinx()\n",
    "    ax2.plot(df['Price ($)'], df['Compounding Sold Asset'], 'o--', color='blue', label='Compounding Sold Asset')\n",
    "    ax2.set_ylabel('Compounding Sold Asset', color='blue')\n",
    "    # ax2.tick_params(axis='y', labelcolor='blue')\n",
    "    ax2.tick_params(axis='y', which='both', right=False, labelright=False)\n",
    "\n",
    "    # Define the offsets\n",
    "    offset_profit_x = 1 + (max(price_points) - min(price_points)) / (len(price_points) * 10)\n",
    "    offset_profit_y = (max(df['Compounding Profit ($)']) - min(df['Compounding Profit ($)'])) * 0.02  # vertical offset for profit\n",
    "    offset_asset_x = 1 + (max(price_points) - min(price_points)) / (len(price_points) * 10)\n",
    "    offset_asset_y = (max(df['Compounding Sold Asset']) - min(df['Compounding Sold Asset'])) * 0.02  # vertical offset for assets\n",
    "\n",
    "    # Annotating with the offsets\n",
    "    for x, y in zip(df['Price ($)'], df['Compounding Profit ($)']):\n",
    "        ax1.text(x + offset_profit_x, y - offset_profit_y, f\"{y:.2f}\", color='red', fontsize=8, ha='left')\n",
    "    \n",
    "    for x, y, z in zip(df['Price ($)'], df['Compounding Sold Asset'], df['Amount to Sell']):\n",
    "        ax2.text(x - offset_asset_x, y + offset_asset_y, f\"{z:.5f}\\n({y:.3f})\", color='blue', fontsize=8, ha='right')\n",
    "\n",
    "\n",
    "    # Manually gathering the legend handles and labels from both axes\n",
    "    handles, labels = [], []\n",
    "    for ax in [ax1, ax2]:\n",
    "        for handle, label in zip(*ax.get_legend_handles_labels()):\n",
    "            handles.append(handle)\n",
    "            labels.append(label)\n",
    "\n",
    "    # Creating a single legend that includes information from both axes\n",
    "    ax1.legend(handles, labels, loc='upper left')\n",
    "    plt.title(title)\n",
    "    plt.show()\n",
    "\n",
    "def update_plot(quantity, steps, start_price, end_price, scale_method):\n",
    "    \"\"\"Updates the plot based on the selected parameters.\"\"\"\n",
    "    price_points = np.linspace(start_price, end_price, steps)\n",
    "    \n",
    "    if scale_method == 'Linear':\n",
    "        amounts_to_sell, profits = calculate_linear_scale_out(quantity, steps, price_points)\n",
    "    elif scale_method == 'Exp':\n",
    "        amounts_to_sell, profits = calculate_exp_scale_out(quantity, steps, price_points)\n",
    "    else:\n",
    "        amounts_to_sell, profits = calculate_log_scale_out(quantity, steps, price_points)\n",
    "\n",
    "    df = pd.DataFrame({\n",
    "        'Price ($)': price_points,\n",
    "        'Amount to Sell': amounts_to_sell,\n",
    "        'Profits ($)': profits\n",
    "    })\n",
    "    \n",
    "    df['Compounding Profit ($)'] = df['Profits ($)'].cumsum()\n",
    "    df['Compounding Sold Asset'] = df['Amount to Sell'].cumsum()\n",
    "\n",
    "    plot_strategy(df, f'{scale_method}-Out Strategy', price_points)\n",
    "\n",
    "# Control Widgets\n",
    "quantity_widget = widgets.FloatText(value=1.0, description='Quantity:')\n",
    "steps_widget = widgets.IntSlider(value=10, min=3, max=30, step=1, description='Steps:')\n",
    "start_price_widget = widgets.FloatText(value=80, description='Start Price:')\n",
    "end_price_widget = widgets.FloatText(value=150, description='End Price:')\n",
    "scale_method_widget = widgets.Dropdown(options=['Linear', 'Exp', 'Log'], value='Linear', description='Scale Method:')\n",
    "\n",
    "ui = widgets.VBox([quantity_widget, steps_widget, start_price_widget, end_price_widget, scale_method_widget])\n",
    "out = widgets.interactive_output(update_plot, {\n",
    "    'quantity': quantity_widget,\n",
    "    'steps': steps_widget,\n",
    "    'start_price': start_price_widget,\n",
    "    'end_price': end_price_widget,\n",
    "    'scale_method': scale_method_widget\n",
    "})\n",
    "\n",
    "display(ui, out)"
   ]
  },
  {
   "cell_type": "code",
   "execution_count": null,
   "id": "f47ac7d1-8829-4f3a-b856-4d73ee7c1f2c",
   "metadata": {},
   "outputs": [],
   "source": []
  }
 ],
 "metadata": {
  "kernelspec": {
   "display_name": "Python 3 (ipykernel)",
   "language": "python",
   "name": "python3"
  },
  "language_info": {
   "codemirror_mode": {
    "name": "ipython",
    "version": 3
   },
   "file_extension": ".py",
   "mimetype": "text/x-python",
   "name": "python",
   "nbconvert_exporter": "python",
   "pygments_lexer": "ipython3",
   "version": "3.12.2"
  }
 },
 "nbformat": 4,
 "nbformat_minor": 5
}
